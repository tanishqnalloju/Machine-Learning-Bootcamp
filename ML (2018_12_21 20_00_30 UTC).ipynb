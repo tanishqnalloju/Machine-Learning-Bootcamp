{
 "cells": [
  {
   "cell_type": "code",
   "execution_count": 2,
   "metadata": {},
   "outputs": [
    {
     "name": "stdout",
     "output_type": "stream",
     "text": [
      "Hello World\n",
      "Workshop is Broing!!:(\n"
     ]
    }
   ],
   "source": [
    "print(\"Hello World\")\n",
    "print(\"Workshop is Broing!!:(\")\n"
   ]
  },
  {
   "cell_type": "code",
   "execution_count": 4,
   "metadata": {},
   "outputs": [
    {
     "name": "stdout",
     "output_type": "stream",
     "text": [
      "Hello World Hello World \n"
     ]
    }
   ],
   "source": [
    "print(\"Hello World \"*2)"
   ]
  },
  {
   "cell_type": "code",
   "execution_count": 5,
   "metadata": {},
   "outputs": [],
   "source": [
    "i = 5\n",
    "j = 6.0"
   ]
  },
  {
   "cell_type": "code",
   "execution_count": 6,
   "metadata": {},
   "outputs": [
    {
     "name": "stdout",
     "output_type": "stream",
     "text": [
      "String 1 String2\n",
      "STring1 String 2\n"
     ]
    }
   ],
   "source": [
    "#string operations\n",
    "print(\"String 1\", \"String2\")\n",
    "print('STring1 '+'String 2')"
   ]
  },
  {
   "cell_type": "code",
   "execution_count": 11,
   "metadata": {},
   "outputs": [
    {
     "name": "stdout",
     "output_type": "stream",
     "text": [
      "17700.0\n"
     ]
    }
   ],
   "source": [
    "#teliviosn -15000\n",
    "cost = 15000\n",
    "#gst-18%\n",
    "gst_rate = 18\n",
    "print(cost+(cost*gst_rate/100))"
   ]
  },
  {
   "cell_type": "code",
   "execution_count": 17,
   "metadata": {},
   "outputs": [
    {
     "name": "stdout",
     "output_type": "stream",
     "text": [
      "1\n"
     ]
    }
   ],
   "source": [
    "my_name = \"Tanishq\"\n",
    "#Boolean values\n",
    "Boolv1 = True\n",
    "Boolv2 = False\n",
    "#Lists\n",
    "l1 = [ele for ele in range(1,5)]\n",
    "print(l1[0])\n"
   ]
  },
  {
   "cell_type": "code",
   "execution_count": null,
   "metadata": {},
   "outputs": [],
   "source": [
    "#list slicing\n"
   ]
  },
  {
   "cell_type": "code",
   "execution_count": null,
   "metadata": {},
   "outputs": [],
   "source": []
  }
 ],
 "metadata": {
  "kernelspec": {
   "display_name": "Python 3",
   "language": "python",
   "name": "python3"
  },
  "language_info": {
   "codemirror_mode": {
    "name": "ipython",
    "version": 3
   },
   "file_extension": ".py",
   "mimetype": "text/x-python",
   "name": "python",
   "nbconvert_exporter": "python",
   "pygments_lexer": "ipython3",
   "version": "3.6.4"
  }
 },
 "nbformat": 4,
 "nbformat_minor": 2
}
